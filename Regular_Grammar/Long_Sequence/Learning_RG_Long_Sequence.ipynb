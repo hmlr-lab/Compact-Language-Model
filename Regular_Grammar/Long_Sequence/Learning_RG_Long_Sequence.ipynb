{
 "cells": [
  {
   "cell_type": "markdown",
   "id": "9584b70d-8f44-4a89-b6cd-c18e6d1d9fb7",
   "metadata": {},
   "source": [
    "# Learning Regular Grammar (Long Sequence)"
   ]
  },
  {
   "cell_type": "markdown",
   "id": "e9e21c46-97c7-4142-b471-d68561640e8b",
   "metadata": {},
   "source": [
    "### Import Packages"
   ]
  },
  {
   "cell_type": "code",
   "execution_count": null,
   "id": "d6b344e0-c6a7-4600-a04a-01cd624f6add",
   "metadata": {},
   "outputs": [],
   "source": [
    "from gpt_api import *\n",
    "import sys\n",
    "sys.path.insert(0, '../../')\n",
    "from PyGol import *\n",
    "import os\n",
    "import numpy as np\n",
    "import matplotlib.pyplot as plt\n",
    "import pylab as plb"
   ]
  },
  {
   "cell_type": "markdown",
   "id": "2038bac1-ef2a-47e4-b52f-a572c324cf8d",
   "metadata": {},
   "source": [
    "### function to read all the files from data folder\n",
    "#### Get the list of all files and directories"
   ]
  },
  {
   "cell_type": "code",
   "execution_count": null,
   "id": "50c78b50-9918-467e-86e1-225a8b9c0933",
   "metadata": {},
   "outputs": [],
   "source": [
    "path = \"Dataset/\"\n",
    "data_files = os.listdir(path)\n",
    "result_folder = \"result/\" #result folder name "
   ]
  },
  {
   "cell_type": "markdown",
   "id": "73fdb945-2161-4ec2-b59d-6a8b70dd881f",
   "metadata": {},
   "source": [
    "### List to save the metrics from all the runs"
   ]
  },
  {
   "cell_type": "code",
   "execution_count": null,
   "id": "ebaa2626-ae57-4ce1-9bee-75804bbff862",
   "metadata": {},
   "outputs": [],
   "source": [
    "final_accuracy_pygol = []\n",
    "final_accuracy_GPT = []\n",
    "default_accuracy = []"
   ]
  },
  {
   "cell_type": "markdown",
   "id": "53ba713a-40c3-4732-af48-a3b7e65d4fc4",
   "metadata": {},
   "source": [
    "### read the files from dataset and separate it into positive and negative examples"
   ]
  },
  {
   "cell_type": "code",
   "execution_count": null,
   "id": "1c6a69bb-3a10-4899-a180-87ccf2f37758",
   "metadata": {},
   "outputs": [],
   "source": [
    "examples = {}\n",
    "for i in data_files:\n",
    "    P,N = read_and_print_lines(path+\"/\"+i)\n",
    "    examples[i] = [P,N]\n",
    "del examples['.DS_Store']"
   ]
  },
  {
   "cell_type": "markdown",
   "id": "84f703d5-4154-4ef1-8fa2-85a2efda9e21",
   "metadata": {},
   "source": [
    "### List to guide the number of runs"
   ]
  },
  {
   "cell_type": "code",
   "execution_count": null,
   "id": "80e7a70f-6d62-4a5e-8690-0c54df7002fa",
   "metadata": {},
   "outputs": [],
   "source": [
    "list_1 = [3,4,5,6,8,10,15,20,30,40,50]"
   ]
  },
  {
   "cell_type": "markdown",
   "id": "b014900e-2235-4584-bd22-82ba40686716",
   "metadata": {},
   "source": [
    "### Learning Phase (PyGol and GPT)"
   ]
  },
  {
   "cell_type": "code",
   "execution_count": null,
   "id": "ccd8e04b-03f2-431c-b109-a4a7d71b0d84",
   "metadata": {},
   "outputs": [],
   "source": [
    "for eachnum in list_1:\n",
    "    acc_pygol = []\n",
    "    acc_gpt = []\n",
    "    print(\"Number of pos. examples:\",eachnum)\n",
    "    for i, j in examples.items():\n",
    "        #train and test data split \n",
    "        pos_train, neg_train, pos_test, neg_test = generate_data_split_language(j[0],j[1],eachnum, eachnum, 250, 250)\n",
    "        test_size = len(pos_test) + len(neg_test)\n",
    "        #Background knowledge generation - PyGol\n",
    "        B, P, N = generate_bk_for_language(pos_list = pos_train, neg_list = neg_train)\n",
    "        #alphabets\n",
    "        A = sorted(extract_alphabets(pos_train))\n",
    "        #Bottom Clause generation - PyGol\n",
    "        pos_bc, neg_bc = bottom_clause_generation(file=B, \n",
    "                                       constant_set=A, \n",
    "                                       positive_example = P,\n",
    "                                       negative_example = N, \n",
    "                                       container = \"memory\", tqdm_disable=True)\n",
    "        #Learning Phase of PyGol\n",
    "        #SM - State Matrix\n",
    "        #S  - States\n",
    "        #H - PyGol Hypothesis\n",
    "        SM, S, H = pygol_learn_languages(positive_file_dictionary=pos_bc, \n",
    "                                      negative_file_dictionary=neg_bc,\n",
    "                                      alphabets=A, file_name=result_folder+\"dfa\"+i, view_dfa=False)\n",
    "        #Production rules\n",
    "        Pt = generate_production_rules(A,SM,S)\n",
    "        # Testing Phase of PyGol starts Here\n",
    "        pos= 0\n",
    "        neg= 0\n",
    "        for eachst in pos_test:\n",
    "            if final_state_check(SM,S, A ,eachst,S[0], S[-1])==1:\n",
    "                pos = pos + 1\n",
    "        for eachst in neg_test:\n",
    "            if final_state_check(SM,S, A ,eachst,S[0], S[-1])!=1:\n",
    "                neg= neg + 1\n",
    "        accuracy = (pos+ neg) / test_size\n",
    "        acc_pygol.append(accuracy)\n",
    "        # Testing Phase of PyGol Ends Here\n",
    "        # Testing Phase of GPT starts Here\n",
    "        result = evaluate_model_with_chatgpt(pos_train, neg_train, pos_test, neg_test)\n",
    "        numbers = re.findall(r'\\d+', result)\n",
    "        numbers = list(map(int, numbers))\n",
    "        TP, TN = numbers\n",
    "        accuracy_chat = (TP+TN)/ test_size\n",
    "        if accuracy_chat<0.5:\n",
    "            accuracy_chat = 0.5\n",
    "        acc_gpt.append(accuracy_chat)\n",
    "        # Testing Phase of GPT Ends Here\n",
    "    print(\"\\t PyGol\",np.mean(acc_pygol))\n",
    "    print(\"\\t GPT\",np.mean(acc_gpt))\n",
    "    final_accuracy_pygol.append(acc_pygol)\n",
    "    final_accuracy_GPT.append(acc_gpt)"
   ]
  },
  {
   "cell_type": "markdown",
   "id": "fa6651ec-0e19-413f-b171-1437b4870af5",
   "metadata": {},
   "source": [
    "### Set Default Accuracy list according to the length of items in 'list_1'"
   ]
  },
  {
   "cell_type": "code",
   "execution_count": null,
   "id": "9ed9ee73-04aa-4054-a0cf-d816c5c3b67f",
   "metadata": {},
   "outputs": [],
   "source": [
    "sample_list = [0.5, 0.5]\n",
    "for i in list_1:\n",
    "    default_accuracy.append(sample_list)"
   ]
  },
  {
   "cell_type": "markdown",
   "id": "09dd65a4-594b-40c6-8d45-7c62025244d4",
   "metadata": {},
   "source": [
    "### Plot accuracy graph"
   ]
  },
  {
   "cell_type": "code",
   "execution_count": null,
   "id": "075668f5-1b53-4bc0-a0b1-c17289b86f32",
   "metadata": {},
   "outputs": [],
   "source": [
    "plb.rcParams['font.size'] = 12\n",
    "\n",
    "means_default = []\n",
    "errors_default = []\n",
    "for sublist in default_accuracy:\n",
    "    np_sublist = np.array(sublist)\n",
    "    mean = np.mean(np_sublist)\n",
    "    std_dev = np.std(np_sublist)\n",
    "    sem = std_dev / np.sqrt(len(sublist))  \n",
    "    means_default.append(mean)\n",
    "    errors_default.append(sem)\n",
    "\n",
    "means_pygol = []\n",
    "errors_pygol = []\n",
    "for sublist in final_accuracy_pygol:\n",
    "    np_sublist = np.array(sublist)\n",
    "    mean = np.mean(np_sublist)\n",
    "    std_dev = np.std(np_sublist)\n",
    "    sem = std_dev / np.sqrt(len(sublist))  \n",
    "    means_pygol.append(mean)\n",
    "    errors_pygol.append(sem)\n",
    "\n",
    "means_chat = []\n",
    "errors_chat = []\n",
    "for sublist in final_accuracy_GPT:\n",
    "    np_sublist = np.array(sublist)\n",
    "    mean = np.mean(np_sublist)\n",
    "    std_dev = np.std(np_sublist)\n",
    "    sem = std_dev / np.sqrt(len(sublist))  \n",
    "    means_chat.append(mean)\n",
    "    errors_chat.append(sem)\n",
    "\n",
    "\n",
    "# Creating the plot\n",
    "plt.figure(figsize=(10, 6))\n",
    "plt.errorbar(list_1, means_pygol, yerr=errors_pygol, fmt='--', capsize=5, ecolor='red', color='red', markersize=1, label='PyGol')\n",
    "plt.errorbar(list_1, means_chat, yerr=errors_chat, fmt='--', capsize=5, ecolor='blue', color='blue', markersize=1, label='GPT')\n",
    "plt.errorbar(list_1, means_default, yerr=errors_default, fmt='--', capsize=5, ecolor='black', color='black', markersize=1, label='Deafult')\n",
    "\n",
    "custom_xtick_positions = [0, 4,  8,  12,  16, 20,  24,  28,   32,  36,  40,  44,  48, 52]\n",
    "custom_xtick_labels = ['0', '4',  '8',  '12',  '16',  '20',  '24',  '28',  '32',  '36', '40',  '44', '48', '52']\n",
    "\n",
    "plt.xticks(ticks=custom_xtick_positions, labels=custom_xtick_labels)\n",
    "plt.legend()\n",
    "plt.xlabel('Number of examples')\n",
    "plt.ylabel('Accuracy')\n",
    "plt.xlim(1.7, 52) \n",
    "plt.ylim(0.4, 1.1)\n",
    "# Show the plot\n",
    "plt.legend( bbox_to_anchor=[1.1, 0.5], \n",
    "           loc='center', ncol=1)\n",
    "plt.savefig('Plot.png')\n",
    "plt.show()"
   ]
  }
 ],
 "metadata": {
  "kernelspec": {
   "display_name": "Python 3 (ipykernel)",
   "language": "python",
   "name": "python3"
  },
  "language_info": {
   "codemirror_mode": {
    "name": "ipython",
    "version": 3
   },
   "file_extension": ".py",
   "mimetype": "text/x-python",
   "name": "python",
   "nbconvert_exporter": "python",
   "pygments_lexer": "ipython3",
   "version": "3.12.2"
  }
 },
 "nbformat": 4,
 "nbformat_minor": 5
}
